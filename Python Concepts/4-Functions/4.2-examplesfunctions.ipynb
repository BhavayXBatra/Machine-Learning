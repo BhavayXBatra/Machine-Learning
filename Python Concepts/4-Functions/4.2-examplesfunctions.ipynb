{
 "cells": [
  {
   "cell_type": "markdown",
   "metadata": {},
   "source": [
    "### Functions examples\n",
    "\n",
    "#### Example 1: Temperature conversion\n",
    "\n",
    "#### Example 2: Password strength checker\n",
    "#### Example 3: Calculate the total cost of items in shopping cart\n",
    "#### Example 4: Check if the string is palindrome or not\n",
    "#### Example 5: Calculate the factorials of a number using recursion\n",
    "#### Example 6: A function to read a file and count the frequency of each word\n",
    "#### Example 7: Validate email address "
   ]
  },
  {
   "cell_type": "code",
   "execution_count": 2,
   "metadata": {},
   "outputs": [
    {
     "name": "stdout",
     "output_type": "stream",
     "text": [
      "77.0\n",
      "25.0\n"
     ]
    }
   ],
   "source": [
    "## Ans1\n",
    "def temp_conv(temp,unit):\n",
    "    \"\"\"This function converts temp between celcius and fahrenheit\"\"\"\n",
    "    if unit == 'C':\n",
    "        return (temp * 9/5) + 32 ## Celcius to fahrenheit\n",
    "    elif unit == 'F':\n",
    "        return (temp - 32) * 5/9 ## Fahrenheit to celcius\n",
    "    else:\n",
    "        return \"Invalid unit\" ## If unit is neither 'C' nor 'F' return this\n",
    "    \n",
    "print(temp_conv(25,'C'))\n",
    "print(temp_conv(77,'F'))"
   ]
  },
  {
   "cell_type": "code",
   "execution_count": 5,
   "metadata": {},
   "outputs": [
    {
     "name": "stdout",
     "output_type": "stream",
     "text": [
      "True\n",
      "False\n"
     ]
    }
   ],
   "source": [
    "###Ans2\n",
    "def is_strong_pass(password):\n",
    "    \"\"\"This fn check whether password is strong or not\"\"\"\n",
    "    if len(password) < 8:\n",
    "        return False\n",
    "    if not any(char.isdigit() for char in password):\n",
    "        return False\n",
    "    if not any(char.islower() for char in password):\n",
    "        return False\n",
    "    if not any(char.isupper() for char in password):\n",
    "        return False\n",
    "    if not any(char in '!@$#%^*&()_+' for char in password):\n",
    "        return False\n",
    "    return True\n",
    "\n",
    "##CAlling the function\n",
    "\n",
    "print(is_strong_pass(\"HelloWorld123!\"))  # True\n",
    "print(is_strong_pass(\"xyx\"))"
   ]
  },
  {
   "cell_type": "code",
   "execution_count": 7,
   "metadata": {},
   "outputs": [
    {
     "name": "stdout",
     "output_type": "stream",
     "text": [
      "5.8999999999999995\n"
     ]
    }
   ],
   "source": [
    "### Ans3\n",
    "\n",
    "def total_cost(cart):\n",
    "    total_cost = 0\n",
    "    for item in cart:\n",
    "        total_cost += item['price']*item['quantity']\n",
    "        \n",
    "    return total_cost\n",
    "\n",
    "## Example cart data\n",
    "\n",
    "cart=[\n",
    "    {'name':'Apple', 'price':0.5,'quantity':4},\n",
    "    {'name':'Banana', 'price':0.3,'quantity':6},\n",
    "    {'name':'Orange', 'price':0.7,'quantity':3},\n",
    "]\n",
    "\n",
    "## calling the function\n",
    "Ans= total_cost(cart)\n",
    "print(Ans)"
   ]
  },
  {
   "cell_type": "code",
   "execution_count": 10,
   "metadata": {},
   "outputs": [
    {
     "name": "stdout",
     "output_type": "stream",
     "text": [
      "True\n",
      "False\n"
     ]
    }
   ],
   "source": [
    "## Ans4\n",
    "def is_palindrome(s):\n",
    "    s=s.lower().replace(\" \",\"\")\n",
    "    return s==s[::-1]\n",
    "print(is_palindrome(\"A man a plan a canal Panama\")) # True\n",
    "print(is_palindrome(\"Hello\"))"
   ]
  },
  {
   "cell_type": "code",
   "execution_count": 12,
   "metadata": {},
   "outputs": [
    {
     "name": "stdout",
     "output_type": "stream",
     "text": [
      "120\n"
     ]
    }
   ],
   "source": [
    "## Ans5\n",
    "\n",
    "def factorial(n):\n",
    "    if n==0:\n",
    "        return 1\n",
    "    else:\n",
    "        return n*factorial(n-1)\n",
    "    \n",
    "print(factorial(5))  # Output: 120"
   ]
  },
  {
   "cell_type": "code",
   "execution_count": 13,
   "metadata": {},
   "outputs": [
    {
     "name": "stdout",
     "output_type": "stream",
     "text": [
      "{'hello': 1, 'world': 1, 'how': 1, 'are': 1, 'you': 1, 'my': 1, 'name': 1, 'is': 1, 'krish': 1}\n"
     ]
    }
   ],
   "source": [
    "##Ans6\n",
    "\n",
    "def count_word_frequency(file_path):\n",
    "    word_count = {}\n",
    "    with open(file_path, 'r') as file:\n",
    "        for line in file:\n",
    "            words = line.split()\n",
    "            for word in words:\n",
    "                word = word.lower().strip('.,!?;:\"\\'')\n",
    "                word_count[word] = word_count.get(word,0) + 1\n",
    "    return word_count       \n",
    "                \n",
    "filepath = 'sample.txt'\n",
    "print(count_word_frequency(filepath))"
   ]
  },
  {
   "cell_type": "code",
   "execution_count": null,
   "metadata": {},
   "outputs": [],
   "source": [
    "## Ans7\n",
    "\n"
   ]
  }
 ],
 "metadata": {
  "kernelspec": {
   "display_name": "venv",
   "language": "python",
   "name": "python3"
  },
  "language_info": {
   "codemirror_mode": {
    "name": "ipython",
    "version": 3
   },
   "file_extension": ".py",
   "mimetype": "text/x-python",
   "name": "python",
   "nbconvert_exporter": "python",
   "pygments_lexer": "ipython3",
   "version": "3.12.0"
  }
 },
 "nbformat": 4,
 "nbformat_minor": 2
}
